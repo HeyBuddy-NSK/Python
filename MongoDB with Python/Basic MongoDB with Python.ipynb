{
 "cells": [
  {
   "cell_type": "markdown",
   "id": "cd332cbb",
   "metadata": {},
   "source": [
    "### Installing pymongo library"
   ]
  },
  {
   "cell_type": "code",
   "execution_count": 3,
   "id": "4d9b4135",
   "metadata": {},
   "outputs": [],
   "source": [
    "# !pip install pymongo"
   ]
  },
  {
   "cell_type": "markdown",
   "id": "23fa027d",
   "metadata": {},
   "source": [
    "# Importing required libraries"
   ]
  },
  {
   "cell_type": "code",
   "execution_count": 1,
   "id": "2432d23b",
   "metadata": {},
   "outputs": [],
   "source": [
    "import pymongo"
   ]
  },
  {
   "cell_type": "markdown",
   "id": "3eb5f766",
   "metadata": {},
   "source": [
    "# Connect"
   ]
  },
  {
   "cell_type": "code",
   "execution_count": 91,
   "id": "67d5500c",
   "metadata": {},
   "outputs": [],
   "source": [
    "con = pymongo.MongoClient(\"mongodb://localhost:27017/\") # this will connect to local database"
   ]
  },
  {
   "cell_type": "markdown",
   "id": "334a68c1",
   "metadata": {},
   "source": [
    "## Getting databases"
   ]
  },
  {
   "cell_type": "code",
   "execution_count": 3,
   "id": "af8fe4c2",
   "metadata": {},
   "outputs": [],
   "source": [
    "if \"python\" in con.list_database_names():\n",
    "    print(\"database exist\")"
   ]
  },
  {
   "cell_type": "code",
   "execution_count": 4,
   "id": "6a9357bf",
   "metadata": {},
   "outputs": [],
   "source": [
    "database = con['python']"
   ]
  },
  {
   "cell_type": "markdown",
   "id": "825b288d",
   "metadata": {},
   "source": [
    "## another method"
   ]
  },
  {
   "cell_type": "code",
   "execution_count": 5,
   "id": "986425ed",
   "metadata": {},
   "outputs": [],
   "source": [
    "con1 = pymongo.MongoClient('localhost',27017)"
   ]
  },
  {
   "cell_type": "code",
   "execution_count": 6,
   "id": "dc771e4d",
   "metadata": {},
   "outputs": [],
   "source": [
    "datab = con1['python']"
   ]
  },
  {
   "cell_type": "code",
   "execution_count": 7,
   "id": "9a6a0a13",
   "metadata": {},
   "outputs": [
    {
     "data": {
      "text/plain": [
       "Database(MongoClient(host=['localhost:27017'], document_class=dict, tz_aware=False, connect=True), 'python')"
      ]
     },
     "execution_count": 7,
     "metadata": {},
     "output_type": "execute_result"
    }
   ],
   "source": [
    "datab"
   ]
  },
  {
   "cell_type": "markdown",
   "id": "b34aa297",
   "metadata": {},
   "source": [
    "# Getting collection"
   ]
  },
  {
   "cell_type": "code",
   "execution_count": 8,
   "id": "ca11565f",
   "metadata": {},
   "outputs": [],
   "source": [
    "collection = database.list_collection_names()  # this will return all collection names in database"
   ]
  },
  {
   "cell_type": "code",
   "execution_count": 9,
   "id": "6c05e5bc",
   "metadata": {},
   "outputs": [
    {
     "data": {
      "text/plain": [
       "[]"
      ]
     },
     "execution_count": 9,
     "metadata": {},
     "output_type": "execute_result"
    }
   ],
   "source": [
    "collection"
   ]
  },
  {
   "cell_type": "markdown",
   "id": "7f5b9196",
   "metadata": {},
   "source": [
    "# inserting document"
   ]
  },
  {
   "cell_type": "code",
   "execution_count": 10,
   "id": "92054447",
   "metadata": {},
   "outputs": [],
   "source": [
    "inset = {'name':'Dev','age':23}\n",
    "insetIn = database['user'].insert_one(inset)"
   ]
  },
  {
   "cell_type": "code",
   "execution_count": 11,
   "id": "de1a31ad",
   "metadata": {},
   "outputs": [
    {
     "data": {
      "text/plain": [
       "<pymongo.results.InsertOneResult at 0x28483250a60>"
      ]
     },
     "execution_count": 11,
     "metadata": {},
     "output_type": "execute_result"
    }
   ],
   "source": [
    "insetIn"
   ]
  },
  {
   "cell_type": "code",
   "execution_count": 12,
   "id": "1208adcd",
   "metadata": {},
   "outputs": [],
   "source": [
    "inset2 = {'name':'nitin','age':21}\n",
    "insetIn2 = database['user'].insert_one(inset2)"
   ]
  },
  {
   "cell_type": "markdown",
   "id": "c66b08c5",
   "metadata": {},
   "source": [
    "# Insert many records"
   ]
  },
  {
   "cell_type": "code",
   "execution_count": 14,
   "id": "2f788abe",
   "metadata": {},
   "outputs": [],
   "source": [
    "insert = [\n",
    "    {'name':'yuvi','age':22},\n",
    "    {'name':'nah','age':21},\n",
    "    {'name':'ayu','age':21},\n",
    "    {'name':'sak','age':21},\n",
    "    {'name':'sad','age':21},\n",
    "    {'name':'vish','age':21},\n",
    "    {'name':'deep','age':21},\n",
    "    {'name':'shiv','age':21},\n",
    "    {'name':'asz','age':21},\n",
    "    {'name':'viv','age':21},\n",
    "    {'name':'pad','age':21},\n",
    "    {'name':'shr','age':21},\n",
    "]"
   ]
  },
  {
   "cell_type": "code",
   "execution_count": 15,
   "id": "2a7b7243",
   "metadata": {},
   "outputs": [
    {
     "name": "stdout",
     "output_type": "stream",
     "text": [
      "[ObjectId('625944d6f13484c16f887ba6'), ObjectId('625944d6f13484c16f887ba7'), ObjectId('625944d6f13484c16f887ba8'), ObjectId('625944d6f13484c16f887ba9'), ObjectId('625944d6f13484c16f887baa'), ObjectId('625944d6f13484c16f887bab'), ObjectId('625944d6f13484c16f887bac'), ObjectId('625944d6f13484c16f887bad'), ObjectId('625944d6f13484c16f887bae'), ObjectId('625944d6f13484c16f887baf'), ObjectId('625944d6f13484c16f887bb0'), ObjectId('625944d6f13484c16f887bb1')]\n"
     ]
    }
   ],
   "source": [
    "ind = database['user'].insert_many(insert)\n",
    "print(ind.inserted_ids)"
   ]
  },
  {
   "cell_type": "markdown",
   "id": "930092ed",
   "metadata": {},
   "source": [
    "# MongoDB Find operation"
   ]
  },
  {
   "cell_type": "markdown",
   "id": "2032241a",
   "metadata": {},
   "source": [
    "## Find one record"
   ]
  },
  {
   "cell_type": "code",
   "execution_count": 38,
   "id": "d5eb9d19",
   "metadata": {},
   "outputs": [],
   "source": [
    "collection = database['user']\n",
    "find = collection.find_one() # this gives first one record from collection in database"
   ]
  },
  {
   "cell_type": "code",
   "execution_count": 39,
   "id": "f78f7cb4",
   "metadata": {},
   "outputs": [
    {
     "name": "stdout",
     "output_type": "stream",
     "text": [
      "{'_id': ObjectId('6259437ff13484c16f887ba4'), 'name': 'Dev', 'age': 23}\n"
     ]
    }
   ],
   "source": [
    "print(find)"
   ]
  },
  {
   "cell_type": "markdown",
   "id": "df1c129c",
   "metadata": {},
   "source": [
    "## Find many records"
   ]
  },
  {
   "cell_type": "code",
   "execution_count": 26,
   "id": "9d5ab6bc",
   "metadata": {},
   "outputs": [
    {
     "data": {
      "text/plain": [
       "[{'_id': ObjectId('6259437ff13484c16f887ba4'), 'name': 'Dev', 'age': 23},\n",
       " {'_id': ObjectId('625943b5f13484c16f887ba5'), 'name': 'nitin', 'age': 21},\n",
       " {'_id': ObjectId('625944d6f13484c16f887ba6'), 'name': 'yuvi', 'age': 22},\n",
       " {'_id': ObjectId('625944d6f13484c16f887ba7'), 'name': 'nah', 'age': 21},\n",
       " {'_id': ObjectId('625944d6f13484c16f887ba8'), 'name': 'ayu', 'age': 21},\n",
       " {'_id': ObjectId('625944d6f13484c16f887ba9'), 'name': 'sak', 'age': 21},\n",
       " {'_id': ObjectId('625944d6f13484c16f887baa'), 'name': 'sad', 'age': 21},\n",
       " {'_id': ObjectId('625944d6f13484c16f887bab'), 'name': 'vish', 'age': 21},\n",
       " {'_id': ObjectId('625944d6f13484c16f887bac'), 'name': 'deep', 'age': 21},\n",
       " {'_id': ObjectId('625944d6f13484c16f887bad'), 'name': 'shiv', 'age': 21},\n",
       " {'_id': ObjectId('625944d6f13484c16f887bae'), 'name': 'asz', 'age': 21},\n",
       " {'_id': ObjectId('625944d6f13484c16f887baf'), 'name': 'viv', 'age': 21},\n",
       " {'_id': ObjectId('625944d6f13484c16f887bb0'), 'name': 'pad', 'age': 21},\n",
       " {'_id': ObjectId('625944d6f13484c16f887bb1'), 'name': 'shr', 'age': 21}]"
      ]
     },
     "execution_count": 26,
     "metadata": {},
     "output_type": "execute_result"
    }
   ],
   "source": [
    "all_records = list(collection.find())\n",
    "all_records"
   ]
  },
  {
   "cell_type": "code",
   "execution_count": 27,
   "id": "5c5e4bb9",
   "metadata": {},
   "outputs": [
    {
     "name": "stdout",
     "output_type": "stream",
     "text": [
      "{'_id': ObjectId('6259437ff13484c16f887ba4'), 'name': 'Dev', 'age': 23}\n",
      "{'_id': ObjectId('625943b5f13484c16f887ba5'), 'name': 'nitin', 'age': 21}\n",
      "{'_id': ObjectId('625944d6f13484c16f887ba6'), 'name': 'yuvi', 'age': 22}\n",
      "{'_id': ObjectId('625944d6f13484c16f887ba7'), 'name': 'nah', 'age': 21}\n",
      "{'_id': ObjectId('625944d6f13484c16f887ba8'), 'name': 'ayu', 'age': 21}\n",
      "{'_id': ObjectId('625944d6f13484c16f887ba9'), 'name': 'sak', 'age': 21}\n",
      "{'_id': ObjectId('625944d6f13484c16f887baa'), 'name': 'sad', 'age': 21}\n",
      "{'_id': ObjectId('625944d6f13484c16f887bab'), 'name': 'vish', 'age': 21}\n",
      "{'_id': ObjectId('625944d6f13484c16f887bac'), 'name': 'deep', 'age': 21}\n",
      "{'_id': ObjectId('625944d6f13484c16f887bad'), 'name': 'shiv', 'age': 21}\n",
      "{'_id': ObjectId('625944d6f13484c16f887bae'), 'name': 'asz', 'age': 21}\n",
      "{'_id': ObjectId('625944d6f13484c16f887baf'), 'name': 'viv', 'age': 21}\n",
      "{'_id': ObjectId('625944d6f13484c16f887bb0'), 'name': 'pad', 'age': 21}\n",
      "{'_id': ObjectId('625944d6f13484c16f887bb1'), 'name': 'shr', 'age': 21}\n"
     ]
    }
   ],
   "source": [
    "for record in all_records:\n",
    "    print(record)"
   ]
  },
  {
   "cell_type": "markdown",
   "id": "67dcbfc8",
   "metadata": {},
   "source": [
    "# MongoDB Query"
   ]
  },
  {
   "cell_type": "code",
   "execution_count": 28,
   "id": "338c6799",
   "metadata": {},
   "outputs": [],
   "source": [
    "query = {'name':'nitin'}"
   ]
  },
  {
   "cell_type": "code",
   "execution_count": 29,
   "id": "1280e9d6",
   "metadata": {},
   "outputs": [],
   "source": [
    "documents = collection.find(query)"
   ]
  },
  {
   "cell_type": "code",
   "execution_count": 31,
   "id": "8a1a9d1f",
   "metadata": {},
   "outputs": [
    {
     "name": "stdout",
     "output_type": "stream",
     "text": [
      "[{'_id': ObjectId('625943b5f13484c16f887ba5'), 'name': 'nitin', 'age': 21}]\n"
     ]
    }
   ],
   "source": [
    "print(list(documents))"
   ]
  },
  {
   "cell_type": "code",
   "execution_count": 32,
   "id": "c4e81d3b",
   "metadata": {},
   "outputs": [],
   "source": [
    "query = {'name':'nah'}\n",
    "documents = collection.find(query)"
   ]
  },
  {
   "cell_type": "code",
   "execution_count": 33,
   "id": "1c20a653",
   "metadata": {},
   "outputs": [
    {
     "name": "stdout",
     "output_type": "stream",
     "text": [
      "[{'_id': ObjectId('625944d6f13484c16f887ba7'), 'name': 'nah', 'age': 21}]\n"
     ]
    }
   ],
   "source": [
    "print(list(documents))"
   ]
  },
  {
   "cell_type": "markdown",
   "id": "7506989c",
   "metadata": {},
   "source": [
    "## Using greater than modifier"
   ]
  },
  {
   "cell_type": "code",
   "execution_count": 36,
   "id": "0216b30c",
   "metadata": {},
   "outputs": [],
   "source": [
    "query = {'name':{'$gt':'m'}} # this query will give all name which starts with m or greater than m\n",
    "\n",
    "documents = collection.find(query)"
   ]
  },
  {
   "cell_type": "code",
   "execution_count": 37,
   "id": "8b5f2d5f",
   "metadata": {},
   "outputs": [
    {
     "data": {
      "text/plain": [
       "[{'_id': ObjectId('625943b5f13484c16f887ba5'), 'name': 'nitin', 'age': 21},\n",
       " {'_id': ObjectId('625944d6f13484c16f887ba6'), 'name': 'yuvi', 'age': 22},\n",
       " {'_id': ObjectId('625944d6f13484c16f887ba7'), 'name': 'nah', 'age': 21},\n",
       " {'_id': ObjectId('625944d6f13484c16f887ba9'), 'name': 'sak', 'age': 21},\n",
       " {'_id': ObjectId('625944d6f13484c16f887baa'), 'name': 'sad', 'age': 21},\n",
       " {'_id': ObjectId('625944d6f13484c16f887bab'), 'name': 'vish', 'age': 21},\n",
       " {'_id': ObjectId('625944d6f13484c16f887bad'), 'name': 'shiv', 'age': 21},\n",
       " {'_id': ObjectId('625944d6f13484c16f887baf'), 'name': 'viv', 'age': 21},\n",
       " {'_id': ObjectId('625944d6f13484c16f887bb0'), 'name': 'pad', 'age': 21},\n",
       " {'_id': ObjectId('625944d6f13484c16f887bb1'), 'name': 'shr', 'age': 21}]"
      ]
     },
     "execution_count": 37,
     "metadata": {},
     "output_type": "execute_result"
    }
   ],
   "source": [
    "list(documents)"
   ]
  },
  {
   "cell_type": "markdown",
   "id": "7505e0fe",
   "metadata": {},
   "source": [
    "# MongoDB Update Operations"
   ]
  },
  {
   "cell_type": "code",
   "execution_count": 40,
   "id": "fa45f7a9",
   "metadata": {},
   "outputs": [
    {
     "data": {
      "text/plain": [
       "<pymongo.results.UpdateResult at 0x28483250a30>"
      ]
     },
     "execution_count": 40,
     "metadata": {},
     "output_type": "execute_result"
    }
   ],
   "source": [
    "query = {'name':'viv'} # this is for searching the record to update\n",
    "newvalue = {'$set':{'name':'vive'}} # this is the new value for that record\n",
    "collection.update_one(query,newvalue) # updating the record"
   ]
  },
  {
   "cell_type": "code",
   "execution_count": 42,
   "id": "b8118cee",
   "metadata": {},
   "outputs": [
    {
     "name": "stdout",
     "output_type": "stream",
     "text": [
      "{'_id': ObjectId('6259437ff13484c16f887ba4'), 'name': 'Dev', 'age': 23}\n",
      "{'_id': ObjectId('625943b5f13484c16f887ba5'), 'name': 'nitin', 'age': 21}\n",
      "{'_id': ObjectId('625944d6f13484c16f887ba6'), 'name': 'yuvi', 'age': 22}\n",
      "{'_id': ObjectId('625944d6f13484c16f887ba7'), 'name': 'nah', 'age': 21}\n",
      "{'_id': ObjectId('625944d6f13484c16f887ba8'), 'name': 'ayu', 'age': 21}\n",
      "{'_id': ObjectId('625944d6f13484c16f887ba9'), 'name': 'sak', 'age': 21}\n",
      "{'_id': ObjectId('625944d6f13484c16f887baa'), 'name': 'sad', 'age': 21}\n",
      "{'_id': ObjectId('625944d6f13484c16f887bab'), 'name': 'vish', 'age': 21}\n",
      "{'_id': ObjectId('625944d6f13484c16f887bac'), 'name': 'deep', 'age': 21}\n",
      "{'_id': ObjectId('625944d6f13484c16f887bad'), 'name': 'shiv', 'age': 21}\n",
      "{'_id': ObjectId('625944d6f13484c16f887bae'), 'name': 'asz', 'age': 21}\n",
      "{'_id': ObjectId('625944d6f13484c16f887baf'), 'name': 'vive', 'age': 21}\n",
      "{'_id': ObjectId('625944d6f13484c16f887bb0'), 'name': 'pad', 'age': 21}\n",
      "{'_id': ObjectId('625944d6f13484c16f887bb1'), 'name': 'shr', 'age': 21}\n"
     ]
    }
   ],
   "source": [
    "# printing the all records\n",
    "for rec in collection.find():\n",
    "    print(rec)"
   ]
  },
  {
   "cell_type": "markdown",
   "id": "d9f18af3",
   "metadata": {},
   "source": [
    "## Using regex for update"
   ]
  },
  {
   "cell_type": "code",
   "execution_count": 43,
   "id": "8f3229c2",
   "metadata": {},
   "outputs": [
    {
     "name": "stdout",
     "output_type": "stream",
     "text": [
      "2\n"
     ]
    }
   ],
   "source": [
    "query = {'name':{'$regex':'^n'}}\n",
    "newvalue ={'$set':{'name':'nahu'}}\n",
    "updt = collection.update_many(query,newvalue)\n",
    "print(updt.modified_count)"
   ]
  },
  {
   "cell_type": "code",
   "execution_count": 70,
   "id": "23f7ea40",
   "metadata": {},
   "outputs": [
    {
     "name": "stdout",
     "output_type": "stream",
     "text": [
      "6259437ff13484c16f887ba4\n",
      "625943b5f13484c16f887ba5\n",
      "625944d6f13484c16f887ba6\n",
      "625944d6f13484c16f887ba7\n",
      "625944d6f13484c16f887ba9\n",
      "625944d6f13484c16f887baa\n",
      "625944d6f13484c16f887bab\n",
      "625944d6f13484c16f887bac\n",
      "625944d6f13484c16f887bad\n",
      "625944d6f13484c16f887bae\n",
      "625944d6f13484c16f887baf\n",
      "625944d6f13484c16f887bb0\n",
      "625944d6f13484c16f887bb1\n"
     ]
    }
   ],
   "source": [
    "for rec in collection.find():\n",
    "    print(rec['_id'])"
   ]
  },
  {
   "cell_type": "markdown",
   "id": "6d1c6559",
   "metadata": {},
   "source": [
    "## Updating datatype of age"
   ]
  },
  {
   "cell_type": "code",
   "execution_count": 73,
   "id": "1c238c68",
   "metadata": {},
   "outputs": [],
   "source": [
    "for rec in collection.find():\n",
    "    collection.update_one({'_id':rec['_id']},{'$set':{'age':str(rec['age'])}})"
   ]
  },
  {
   "cell_type": "code",
   "execution_count": 74,
   "id": "f71adb0e",
   "metadata": {},
   "outputs": [
    {
     "data": {
      "text/plain": [
       "[{'_id': ObjectId('6259437ff13484c16f887ba4'), 'name': 'Dev', 'age': '23'},\n",
       " {'_id': ObjectId('625943b5f13484c16f887ba5'), 'name': 'nahu', 'age': '21'},\n",
       " {'_id': ObjectId('625944d6f13484c16f887ba6'), 'name': 'yuvi', 'age': '22'},\n",
       " {'_id': ObjectId('625944d6f13484c16f887ba7'), 'name': 'nahu', 'age': '21'},\n",
       " {'_id': ObjectId('625944d6f13484c16f887ba9'), 'name': 'sak', 'age': '21'},\n",
       " {'_id': ObjectId('625944d6f13484c16f887baa'), 'name': 'sad', 'age': '21'},\n",
       " {'_id': ObjectId('625944d6f13484c16f887bab'), 'name': 'vish', 'age': '21'},\n",
       " {'_id': ObjectId('625944d6f13484c16f887bac'), 'name': 'deep', 'age': '21'},\n",
       " {'_id': ObjectId('625944d6f13484c16f887bad'), 'name': 'shiv', 'age': '21'},\n",
       " {'_id': ObjectId('625944d6f13484c16f887bae'), 'name': 'asz', 'age': '21'},\n",
       " {'_id': ObjectId('625944d6f13484c16f887baf'), 'name': 'vive', 'age': '21'},\n",
       " {'_id': ObjectId('625944d6f13484c16f887bb0'), 'name': 'pad', 'age': '21'},\n",
       " {'_id': ObjectId('625944d6f13484c16f887bb1'), 'name': 'shr', 'age': '21'}]"
      ]
     },
     "execution_count": 74,
     "metadata": {},
     "output_type": "execute_result"
    }
   ],
   "source": [
    "list(collection.find())"
   ]
  },
  {
   "cell_type": "markdown",
   "id": "aaa1b94a",
   "metadata": {},
   "source": [
    "# MongoDB Delete Operation"
   ]
  },
  {
   "cell_type": "code",
   "execution_count": 45,
   "id": "6ec45797",
   "metadata": {},
   "outputs": [
    {
     "data": {
      "text/plain": [
       "<pymongo.results.DeleteResult at 0x28483830280>"
      ]
     },
     "execution_count": 45,
     "metadata": {},
     "output_type": "execute_result"
    }
   ],
   "source": [
    "query = {'name':'ayu'}\n",
    "collection.delete_one(query)"
   ]
  },
  {
   "cell_type": "code",
   "execution_count": 48,
   "id": "e9706902",
   "metadata": {},
   "outputs": [
    {
     "name": "stdout",
     "output_type": "stream",
     "text": [
      "Dev\n",
      "nahu\n",
      "yuvi\n",
      "nahu\n",
      "sak\n",
      "sad\n",
      "vish\n",
      "deep\n",
      "shiv\n",
      "asz\n",
      "vive\n",
      "pad\n",
      "shr\n"
     ]
    }
   ],
   "source": [
    "for rec in collection.find():\n",
    "    print(rec['name'])"
   ]
  },
  {
   "cell_type": "markdown",
   "id": "4275b932",
   "metadata": {},
   "source": [
    "## Delete many"
   ]
  },
  {
   "cell_type": "code",
   "execution_count": 75,
   "id": "bf4aa32b",
   "metadata": {},
   "outputs": [
    {
     "name": "stdout",
     "output_type": "stream",
     "text": [
      "1\n"
     ]
    }
   ],
   "source": [
    "query = {\"age\":{\"$regex\":\"^22\"}}\n",
    "dlt = collection.delete_many(query)\n",
    "print(dlt.deleted_count)"
   ]
  },
  {
   "cell_type": "code",
   "execution_count": 78,
   "id": "eacc0c5d",
   "metadata": {},
   "outputs": [
    {
     "name": "stdout",
     "output_type": "stream",
     "text": [
      "11\n"
     ]
    }
   ],
   "source": [
    "query = {'age':{'$regex':'^21'}}\n",
    "dlt = collection.delete_many(query)\n",
    "print(dlt.deleted_count)"
   ]
  },
  {
   "cell_type": "code",
   "execution_count": 79,
   "id": "aec317b6",
   "metadata": {},
   "outputs": [
    {
     "data": {
      "text/plain": [
       "[{'_id': ObjectId('6259437ff13484c16f887ba4'), 'name': 'Dev', 'age': '23'}]"
      ]
     },
     "execution_count": 79,
     "metadata": {},
     "output_type": "execute_result"
    }
   ],
   "source": [
    "list(collection.find())"
   ]
  },
  {
   "cell_type": "markdown",
   "id": "31f04367",
   "metadata": {},
   "source": [
    "# MongoDB Limit Operation"
   ]
  },
  {
   "cell_type": "markdown",
   "id": "29fd3ede",
   "metadata": {},
   "source": [
    "## Inserting some records"
   ]
  },
  {
   "cell_type": "code",
   "execution_count": 82,
   "id": "df262731",
   "metadata": {},
   "outputs": [],
   "source": [
    "# inserting records \n",
    "insert = [\n",
    "    {'name':'devi','age':'22'},\n",
    "    {'name':'niha','age':'20'},\n",
    "    {'name':'nah','age':'21'},\n",
    "    {'name':'maha','age':'222'},\n",
    "    {'name':'lak','age':'229'},\n",
    "    {'name':'sar','age':'252'},\n",
    "]\n",
    "\n",
    "inset_id = collection.insert_many(insert)"
   ]
  },
  {
   "cell_type": "code",
   "execution_count": 86,
   "id": "f9276520",
   "metadata": {},
   "outputs": [
    {
     "data": {
      "text/plain": [
       "[ObjectId('62595067f13484c16f887bb2'),\n",
       " ObjectId('62595067f13484c16f887bb3'),\n",
       " ObjectId('62595067f13484c16f887bb4'),\n",
       " ObjectId('62595067f13484c16f887bb5'),\n",
       " ObjectId('62595067f13484c16f887bb6'),\n",
       " ObjectId('62595067f13484c16f887bb7')]"
      ]
     },
     "execution_count": 86,
     "metadata": {},
     "output_type": "execute_result"
    }
   ],
   "source": [
    "inset_id.inserted_ids"
   ]
  },
  {
   "cell_type": "markdown",
   "id": "9dd53f6c",
   "metadata": {},
   "source": [
    "# limiting query for 1st two records"
   ]
  },
  {
   "cell_type": "code",
   "execution_count": 89,
   "id": "ad604ef4",
   "metadata": {},
   "outputs": [
    {
     "data": {
      "text/plain": [
       "[{'_id': ObjectId('6259437ff13484c16f887ba4'), 'name': 'Dev', 'age': '23'},\n",
       " {'_id': ObjectId('62595067f13484c16f887bb2'), 'name': 'devi', 'age': '22'}]"
      ]
     },
     "execution_count": 89,
     "metadata": {},
     "output_type": "execute_result"
    }
   ],
   "source": [
    "query = collection.find().limit(2)\n",
    "list(query)"
   ]
  },
  {
   "cell_type": "markdown",
   "id": "1e175b0d",
   "metadata": {},
   "source": [
    "## Limiting query for 1st four records"
   ]
  },
  {
   "cell_type": "code",
   "execution_count": 88,
   "id": "829f112f",
   "metadata": {},
   "outputs": [
    {
     "data": {
      "text/plain": [
       "[{'_id': ObjectId('6259437ff13484c16f887ba4'), 'name': 'Dev', 'age': '23'},\n",
       " {'_id': ObjectId('62595067f13484c16f887bb2'), 'name': 'devi', 'age': '22'},\n",
       " {'_id': ObjectId('62595067f13484c16f887bb3'), 'name': 'niha', 'age': '20'},\n",
       " {'_id': ObjectId('62595067f13484c16f887bb4'), 'name': 'nah', 'age': '21'}]"
      ]
     },
     "execution_count": 88,
     "metadata": {},
     "output_type": "execute_result"
    }
   ],
   "source": [
    "query = collection.find().limit(4)\n",
    "list(query)"
   ]
  },
  {
   "cell_type": "markdown",
   "id": "23ef6a6b",
   "metadata": {},
   "source": [
    "# Dropping collection"
   ]
  },
  {
   "cell_type": "code",
   "execution_count": 90,
   "id": "b4aa1260",
   "metadata": {},
   "outputs": [],
   "source": [
    "collection.drop() # This will drop an entire collection from database"
   ]
  }
 ],
 "metadata": {
  "kernelspec": {
   "display_name": "Python 3 (ipykernel)",
   "language": "python",
   "name": "python3"
  },
  "language_info": {
   "codemirror_mode": {
    "name": "ipython",
    "version": 3
   },
   "file_extension": ".py",
   "mimetype": "text/x-python",
   "name": "python",
   "nbconvert_exporter": "python",
   "pygments_lexer": "ipython3",
   "version": "3.9.7"
  }
 },
 "nbformat": 4,
 "nbformat_minor": 5
}
