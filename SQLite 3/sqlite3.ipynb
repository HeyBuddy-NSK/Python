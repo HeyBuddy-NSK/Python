{
 "cells": [
  {
   "cell_type": "markdown",
   "id": "8bee1eef",
   "metadata": {},
   "source": [
    "# Import library"
   ]
  },
  {
   "cell_type": "code",
   "execution_count": 1,
   "id": "144253ba",
   "metadata": {},
   "outputs": [],
   "source": [
    "import sqlite3"
   ]
  },
  {
   "cell_type": "markdown",
   "id": "415adbae",
   "metadata": {},
   "source": [
    "# connect to database"
   ]
  },
  {
   "cell_type": "code",
   "execution_count": 5,
   "id": "b710e6dc",
   "metadata": {},
   "outputs": [
    {
     "name": "stdout",
     "output_type": "stream",
     "text": [
      "Database created successfully and connected\n",
      "sqlite connection is closed\n"
     ]
    }
   ],
   "source": [
    "# ## conet = sqlite3.connect(\"database.db\")\n",
    "\n",
    "# # using exceptions\n",
    "# try:\n",
    "#     conet = sqlite3.connect(\"database.db\")\n",
    "#     cursor = conet.cursor()\n",
    "#     print(\"Database created successfully and connected\")\n",
    "# except sqlite3.Error as error:\n",
    "#     print(\"Error in creating database\")\n",
    "    \n",
    "# finally:\n",
    "#     if(conet):\n",
    "#         conet.close()\n",
    "#         print(\"sqlite connection is closed\")"
   ]
  },
  {
   "cell_type": "code",
   "execution_count": 6,
   "id": "046f6452",
   "metadata": {},
   "outputs": [],
   "source": [
    "conet = sqlite3.connect('database.db')\n",
    "cursor = conet.cursor()"
   ]
  },
  {
   "cell_type": "markdown",
   "id": "4d1a421d",
   "metadata": {},
   "source": [
    "# creating the table"
   ]
  },
  {
   "cell_type": "code",
   "execution_count": 7,
   "id": "1032ed5d",
   "metadata": {},
   "outputs": [
    {
     "name": "stdout",
     "output_type": "stream",
     "text": [
      "Table created successfully!.\n"
     ]
    }
   ],
   "source": [
    "conet.execute('''CREATE TABLE STD(stdid INTEGER PRIMARY KEY AUTOINCREMENT,\n",
    "                 name TEXT(20) NOT NULL, age INTEGER, Dept TEXT(20));''')\n",
    "print(\"Table created successfully!.\")"
   ]
  },
  {
   "cell_type": "markdown",
   "id": "8ec6544d",
   "metadata": {},
   "source": [
    "# Inserting record in table using insert()"
   ]
  },
  {
   "cell_type": "code",
   "execution_count": 8,
   "id": "bb06b1a0",
   "metadata": {},
   "outputs": [
    {
     "name": "stdout",
     "output_type": "stream",
     "text": [
      "Data added to table successfully\n"
     ]
    }
   ],
   "source": [
    "query = \"\"\"INSERT into STD(name, age, Dept) values\n",
    "           ('nitin', 21, 'cs'),\n",
    "           ('bob', 20, 'cs'),\n",
    "           ('nah',22,'cs');\"\"\"\n",
    "\n",
    "cursor.execute(query)\n",
    "conet.commit()\n",
    "print(\"Data added to table successfully\")"
   ]
  },
  {
   "cell_type": "markdown",
   "id": "677f53d2",
   "metadata": {},
   "source": [
    "# Python database READ operation"
   ]
  },
  {
   "cell_type": "code",
   "execution_count": 12,
   "id": "1b1247a8",
   "metadata": {},
   "outputs": [
    {
     "name": "stdout",
     "output_type": "stream",
     "text": [
      "(1, 'nitin', 21, 'cs')\n",
      "(2, 'bob', 20, 'cs')\n",
      "(3, 'nah', 22, 'cs')\n"
     ]
    }
   ],
   "source": [
    "read_data = \"SELECT * FROM STD\"\n",
    "cursor.execute(read_data)\n",
    "while True:\n",
    "    record = cursor.fetchone()\n",
    "#     record = cursor.fetchall()\n",
    "    if record==None:\n",
    "        break\n",
    "    print(record)"
   ]
  },
  {
   "cell_type": "markdown",
   "id": "2974c9a4",
   "metadata": {},
   "source": [
    "# Update operation"
   ]
  },
  {
   "cell_type": "code",
   "execution_count": 14,
   "id": "14f30524",
   "metadata": {},
   "outputs": [
    {
     "name": "stdout",
     "output_type": "stream",
     "text": [
      "record is updated\n"
     ]
    }
   ],
   "source": [
    "update_q = \"\"\"UPDATE STD SET age = 25 WHERE name='bob';\"\"\"\n",
    "cursor.execute(update_q)\n",
    "conet.commit()\n",
    "print(\"record is updated\")"
   ]
  },
  {
   "cell_type": "code",
   "execution_count": 16,
   "id": "812398e0",
   "metadata": {},
   "outputs": [
    {
     "name": "stdout",
     "output_type": "stream",
     "text": [
      "(2, 'bob', 25, 'cs')\n"
     ]
    }
   ],
   "source": [
    "q = \"SELECT * FROM STD WHERE stdid=2;\"\n",
    "cursor.execute(q)\n",
    "while True:\n",
    "    record = cursor.fetchone()\n",
    "    if record == None:\n",
    "        break\n",
    "    print(record)"
   ]
  },
  {
   "cell_type": "markdown",
   "id": "1d8b7194",
   "metadata": {},
   "source": [
    "# Delete the record from table"
   ]
  },
  {
   "cell_type": "code",
   "execution_count": 18,
   "id": "c89c6ee0",
   "metadata": {},
   "outputs": [
    {
     "name": "stdout",
     "output_type": "stream",
     "text": [
      "Record deleted!.\n"
     ]
    }
   ],
   "source": [
    "q = \"\"\"DELETE FROM STD WHERE name ='bob';\"\"\"\n",
    "cursor.execute(q)\n",
    "conet.commit()\n",
    "print(\"Record deleted!.\")"
   ]
  },
  {
   "cell_type": "code",
   "execution_count": 19,
   "id": "184a56c0",
   "metadata": {},
   "outputs": [
    {
     "name": "stdout",
     "output_type": "stream",
     "text": [
      "(1, 'nitin', 21, 'cs')\n",
      "(3, 'nah', 22, 'cs')\n"
     ]
    }
   ],
   "source": [
    "q = \"SELECT * FROM STD;\"\n",
    "cursor.execute(q)\n",
    "while True:\n",
    "    record = cursor.fetchone()\n",
    "    if record == None:\n",
    "        break\n",
    "    print(record)"
   ]
  },
  {
   "cell_type": "markdown",
   "id": "d6435bda",
   "metadata": {},
   "source": [
    "# Database LIMIT"
   ]
  },
  {
   "cell_type": "code",
   "execution_count": 22,
   "id": "c50ac76e",
   "metadata": {},
   "outputs": [
    {
     "name": "stdout",
     "output_type": "stream",
     "text": [
      "Record is :: [(1, 'nitin', 21, 'cs'), (3, 'nah', 22, 'cs')]\n"
     ]
    }
   ],
   "source": [
    "q = \"\"\"SELECT * FROM STD LIMIT 3;\"\"\"\n",
    "cursor.execute(q)\n",
    "fetch = cursor.fetchall()\n",
    "print(f\"Record is :: {fetch}\")"
   ]
  },
  {
   "cell_type": "code",
   "execution_count": 23,
   "id": "a08fcbb3",
   "metadata": {},
   "outputs": [
    {
     "name": "stdout",
     "output_type": "stream",
     "text": [
      "Record is :: [(1, 'nitin', 21, 'cs')]\n"
     ]
    }
   ],
   "source": [
    "q = \"\"\"SELECT * FROM STD LIMIT 1;\"\"\"\n",
    "cursor.execute(q)\n",
    "fetch = cursor.fetchall()\n",
    "print(f\"Record is :: {fetch}\")"
   ]
  },
  {
   "cell_type": "code",
   "execution_count": 24,
   "id": "c6a49722",
   "metadata": {},
   "outputs": [
    {
     "name": "stdout",
     "output_type": "stream",
     "text": [
      "Record is :: []\n"
     ]
    }
   ],
   "source": [
    "q = \"\"\"SELECT * FROM STD LIMIT 0;\"\"\"\n",
    "cursor.execute(q)\n",
    "fetch = cursor.fetchall()\n",
    "print(f\"Record is :: {fetch}\")"
   ]
  },
  {
   "cell_type": "markdown",
   "id": "5076e3c4",
   "metadata": {},
   "source": [
    "# closing connection"
   ]
  },
  {
   "cell_type": "code",
   "execution_count": 25,
   "id": "487f7857",
   "metadata": {},
   "outputs": [],
   "source": [
    "cursor.close()\n",
    "conet.close()"
   ]
  }
 ],
 "metadata": {
  "kernelspec": {
   "display_name": "Python 3 (ipykernel)",
   "language": "python",
   "name": "python3"
  },
  "language_info": {
   "codemirror_mode": {
    "name": "ipython",
    "version": 3
   },
   "file_extension": ".py",
   "mimetype": "text/x-python",
   "name": "python",
   "nbconvert_exporter": "python",
   "pygments_lexer": "ipython3",
   "version": "3.9.7"
  }
 },
 "nbformat": 4,
 "nbformat_minor": 5
}
